{
 "cells": [
  {
   "cell_type": "markdown",
   "metadata": {},
   "source": [
    "# Convolutional Neural Networks\n",
    "\n",
    "## Project: Write an Algorithm for Landmark Classification\n",
    "\n",
    "\n",
    "### Introduction\n",
    "\n",
    "The project folder has the following structure:\n",
    "\n",
    "* In the main directory you have this notebook, `cnn_from_scratch.ipynb`, that contains the instruction and some questions you will have to answer. Follow this notebook and complete the required sections in order.\n",
    "\n",
    "* In the `src/` directory you have several source files. As instructed in this notebook, you will open and complete those files, then come back to this notebook to execute some tests that will verify what you have done. While these tests don't guarantee that your work is bug-free, they will help you finding the most obvious problems so you will be able to proceed to the next step with confidence.\n",
    "\n",
    "* Sometimes you will need to restart the notebook. If you do so, remember to execute also the cells containing the code you have already completed starting from the top, before you move on.\n",
    "\n",
    "In addition to implementing code, there will be questions that you must answer which relate to the project and your implementation. Each section where you will answer a question is preceded by a **'Question'** header. Carefully read each question and provide thorough answers in the following text boxes that begin with **'Answer:'**. Your project submission will be evaluated based on your answers to each of the questions and the implementation you provide.\n",
    "\n",
    "> <img src=\"static_images/icons/noun-info-2558213.png\" alt=\"?\" style=\"width:25px\"/> Code and Markdown cells can be executed using the **Shift + Enter** keyboard shortcut.  Markdown cells can be edited by double-clicking the cell to enter edit mode.\n",
    "\n",
    "The rubric contains _optional_ \"Stand Out Suggestions\" for enhancing the project beyond the minimum requirements. If you decide to pursue the \"Stand Out Suggestions\", you should include the code in this Jupyter notebook.\n",
    "\n",
    "### Designing and training a CNN from scratch\n",
    "\n",
    "In this notebook, you will create a CNN that classifies landmarks.  You must create your CNN _from scratch_ (so, you can't use transfer learning _yet_!), and you must attain a test accuracy of at least 50%.\n",
    "\n",
    "Although 50% may seem low at first glance, it seems more reasonable after realizing how difficult of a problem this is. Many times, an image that is taken at a landmark captures a fairly mundane image of an animal or plant, like in the following picture.\n",
    "\n",
    "<img src=\"static_images/train/00.Haleakala_National_Park/084c2aa50d0a9249.jpg\" alt=\"Bird in Haleakalā National Park\" style=\"width: 400px;\"/>\n",
    "\n",
    "Just by looking at that image alone, would you have been able to guess that it was taken at the Haleakalā National Park in Hawaii?\n",
    "\n",
    "An accuracy of 50% is significantly better than random guessing, which would provide an accuracy of just 2% (100% / 50 classes). In Step 2 of this notebook, you will have the opportunity to greatly improve accuracy by using transfer learning to create a CNN.\n",
    "\n",
    "Experiment with different architectures, hyperparameters, training strategies, and trust your intuition.  And, of course, have fun!\n",
    "\n",
    "---\n",
    "## <img src=\"static_images/icons/noun-advance-2109145.png\" alt=\">\" style=\"width:50px\"/> Step 0: Setting up\n",
    "\n",
    "The following cells make sure that your environment is setup correctly, download the data if you don't have it already, and also check that your GPU is available and ready to go. You have to execute them every time you restart your notebook."
   ]
  },
  {
   "cell_type": "code",
   "execution_count": 2,
   "metadata": {},
   "outputs": [
    {
     "name": "stdout",
     "output_type": "stream",
     "text": [
      "Defaulting to user installation because normal site-packages is not writeable\n",
      "Collecting opencv-python-headless==4.5.3.56\n",
      "  Downloading opencv_python_headless-4.5.3.56-cp37-cp37m-manylinux2014_x86_64.whl (37.1 MB)\n",
      "Collecting bokeh==2.1.1\n",
      "  Downloading bokeh-2.1.1.tar.gz (19.3 MB)\n",
      "Collecting torchvision==0.12.0\n",
      "  Downloading torchvision-0.12.0-cp37-cp37m-manylinux1_x86_64.whl (21.0 MB)\n",
      "Collecting tqdm==4.63.0\n",
      "  Downloading tqdm-4.63.0-py2.py3-none-any.whl (76 kB)\n",
      "Collecting ipywidgets==7.6.5\n",
      "  Downloading ipywidgets-7.6.5-py2.py3-none-any.whl (121 kB)\n",
      "Collecting livelossplot==0.5.4\n",
      "  Downloading livelossplot-0.5.4-py3-none-any.whl (22 kB)\n",
      "Collecting pytest==7.1.1\n",
      "  Downloading pytest-7.1.1-py3-none-any.whl (297 kB)\n",
      "Collecting pandas==1.3.5\n",
      "  Downloading pandas-1.3.5-cp37-cp37m-manylinux_2_17_x86_64.manylinux2014_x86_64.whl (11.3 MB)\n",
      "Collecting seaborn==0.11.2\n",
      "  Downloading seaborn-0.11.2-py3-none-any.whl (292 kB)\n",
      "Collecting widgetsnbextension~=3.5.0\n",
      "  Downloading widgetsnbextension-3.5.2-py2.py3-none-any.whl (1.6 MB)\n",
      "Collecting jupyterlab-widgets>=1.0.0; python_version >= \"3.6\"\n",
      "  Downloading jupyterlab_widgets-3.0.11-py3-none-any.whl (214 kB)\n",
      "Collecting iniconfig\n",
      "  Downloading iniconfig-2.0.0-py3-none-any.whl (5.9 kB)\n",
      "Collecting pluggy<2.0,>=0.12\n",
      "  Downloading pluggy-1.2.0-py3-none-any.whl (17 kB)\n",
      "Collecting py>=1.8.2\n",
      "  Downloading py-1.11.0-py2.py3-none-any.whl (98 kB)\n",
      "Collecting tomli>=1.0.0\n",
      "  Downloading tomli-2.0.1-py3-none-any.whl (12 kB)\n",
      "Building wheels for collected packages: bokeh\n",
      "  Building wheel for bokeh (setup.py): started\n",
      "  Building wheel for bokeh (setup.py): finished with status 'done'\n",
      "  Created wheel for bokeh: filename=bokeh-2.1.1-py3-none-any.whl size=9257186 sha256=8719d98e3215cbb6e11459e6365f8360ed3939e4bd9eda743ee8151bcc89dd39\n",
      "  Stored in directory: /root/.cache/pip/wheels/f7/55/ff/f3d7554e69382d31cf7ad857cf518af9b923134fca7d925187\n",
      "Successfully built bokeh\n",
      "Installing collected packages: opencv-python-headless, bokeh, torchvision, tqdm, widgetsnbextension, jupyterlab-widgets, ipywidgets, livelossplot, iniconfig, pluggy, py, tomli, pytest, pandas, seaborn\n",
      "\u001b[33m  WARNING: The script bokeh is installed in '/root/.local/bin' which is not on PATH.\n",
      "  Consider adding this directory to PATH or, if you prefer to suppress this warning, use --no-warn-script-location.\u001b[0m\n",
      "\u001b[33m  WARNING: The script tqdm is installed in '/root/.local/bin' which is not on PATH.\n",
      "  Consider adding this directory to PATH or, if you prefer to suppress this warning, use --no-warn-script-location.\u001b[0m\n",
      "\u001b[33m  WARNING: The scripts py.test and pytest are installed in '/root/.local/bin' which is not on PATH.\n",
      "  Consider adding this directory to PATH or, if you prefer to suppress this warning, use --no-warn-script-location.\u001b[0m\n",
      "Successfully installed bokeh-2.1.1 iniconfig-2.0.0 ipywidgets-7.6.5 jupyterlab-widgets-3.0.11 livelossplot-0.5.4 opencv-python-headless-4.5.3.56 pandas-1.3.5 pluggy-1.2.0 py-1.11.0 pytest-7.1.1 seaborn-0.11.2 tomli-2.0.1 torchvision-0.12.0 tqdm-4.63.0 widgetsnbextension-3.5.2\n"
     ]
    }
   ],
   "source": [
    "# Install requirements\n",
    "!pip install -r requirements.txt | grep -v \"already satisfied\""
   ]
  },
  {
   "cell_type": "markdown",
   "metadata": {},
   "source": [
    "Important! After you have ran pip install, please restart the kernel using the **Kernel** menu "
   ]
  },
  {
   "cell_type": "code",
   "execution_count": 3,
   "metadata": {},
   "outputs": [
    {
     "name": "stdout",
     "output_type": "stream",
     "text": [
      "GPU available\n",
      "Dataset already downloaded. If you need to re-download, please delete the directory /data/DLND/C2/landmark_images\n",
      "Reusing cached mean and std\n"
     ]
    }
   ],
   "source": [
    "from src.helpers import setup_env\n",
    "\n",
    "# If running locally, this will download dataset (make sure you have at \n",
    "# least 2 Gb of space on your hard drive)\n",
    "setup_env()"
   ]
  },
  {
   "cell_type": "markdown",
   "metadata": {},
   "source": [
    "---\n",
    "## <img src=\"static_images/icons/noun-advance-2109145.png\" alt=\">\" style=\"width:50px\"/> Step 1: Data\n",
    "\n",
    "In this and the following steps we are going to complete some code, and then execute some tests to make sure the code works as intended. \n",
    "\n",
    "Open the file `src/data.py`. It contains a function called `get_data_loaders`. Read the function and complete all the parts marked by `YOUR CODE HERE`. Once you have finished, test that your implementation is correct by executing the following cell (see below for what to do if a test fails):"
   ]
  },
  {
   "cell_type": "code",
   "execution_count": 1,
   "metadata": {
    "tags": []
   },
   "outputs": [
    {
     "name": "stdout",
     "output_type": "stream",
     "text": [
      "\u001b[1m============================= test session starts ==============================\u001b[0m\n",
      "platform linux -- Python 3.7.12, pytest-7.1.1, pluggy-1.2.0 -- /home/rodney/miniconda3/envs/udacity/bin/python\n",
      "cachedir: .pytest_cache\n",
      "rootdir: /home/rodney/ML_Udacity/LandClassifier\n",
      "plugins: anyio-3.7.1\n",
      "collected 4 items / 1 deselected / 3 selected                                  \u001b[0m\u001b[1m\n",
      "\n",
      "src/data.py::test_data_loaders_keys \u001b[32mPASSED\u001b[0m\u001b[33m                               [ 33%]\u001b[0m\n",
      "src/data.py::test_data_loaders_output_type \u001b[32mPASSED\u001b[0m\u001b[33m                        [ 66%]\u001b[0m\n",
      "src/data.py::test_data_loaders_output_shape \u001b[32mPASSED\u001b[0m\u001b[33m                       [100%]\u001b[0m\n",
      "\n",
      "\u001b[33m=============================== warnings summary ===============================\u001b[0m\n",
      "../../miniconda3/envs/udacity/lib/python3.7/site-packages/matplotlib/__init__.py:152\n",
      "../../miniconda3/envs/udacity/lib/python3.7/site-packages/matplotlib/__init__.py:152\n",
      "../../miniconda3/envs/udacity/lib/python3.7/site-packages/matplotlib/__init__.py:152\n",
      "../../miniconda3/envs/udacity/lib/python3.7/site-packages/matplotlib/__init__.py:152\n",
      "../../miniconda3/envs/udacity/lib/python3.7/site-packages/matplotlib/__init__.py:152\n",
      "  /home/rodney/miniconda3/envs/udacity/lib/python3.7/site-packages/matplotlib/__init__.py:152: DeprecationWarning: distutils Version classes are deprecated. Use packaging.version instead.\n",
      "    if LooseVersion(module.__version__) < minver:\n",
      "\n",
      "../../miniconda3/envs/udacity/lib/python3.7/site-packages/setuptools/_distutils/version.py:346\n",
      "../../miniconda3/envs/udacity/lib/python3.7/site-packages/setuptools/_distutils/version.py:346\n",
      "../../miniconda3/envs/udacity/lib/python3.7/site-packages/setuptools/_distutils/version.py:346\n",
      "../../miniconda3/envs/udacity/lib/python3.7/site-packages/setuptools/_distutils/version.py:346\n",
      "../../miniconda3/envs/udacity/lib/python3.7/site-packages/setuptools/_distutils/version.py:346\n",
      "  /home/rodney/miniconda3/envs/udacity/lib/python3.7/site-packages/setuptools/_distutils/version.py:346: DeprecationWarning: distutils Version classes are deprecated. Use packaging.version instead.\n",
      "    other = LooseVersion(other)\n",
      "\n",
      "-- Docs: https://docs.pytest.org/en/stable/how-to/capture-warnings.html\n",
      "\u001b[33m================= \u001b[32m3 passed\u001b[0m, \u001b[33m\u001b[1m1 deselected\u001b[0m, \u001b[33m\u001b[1m10 warnings\u001b[0m\u001b[33m in 1.82s\u001b[0m\u001b[33m =================\u001b[0m\n"
     ]
    }
   ],
   "source": [
    "!pytest -vv src/data.py -k data_loaders"
   ]
  },
  {
   "cell_type": "markdown",
   "metadata": {},
   "source": [
    "You should see something like:\n",
    "```\n",
    "src/data.py::test_data_loaders_keys PASSED                               [ 33%]\n",
    "src/data.py::test_data_loaders_output_type PASSED                        [ 66%]\n",
    "src/data.py::test_data_loaders_output_shape PASSED                       [100%]\n",
    "\n",
    "======================= 3 passed, 1 deselected in 1.81s ========================\n",
    "```\n",
    "If all the tests are `PASSED`, you can move to the next section.\n",
    "\n",
    "> <img src=\"static_images/icons/noun-info-2558213.png\" alt=\"?\" style=\"width:25px\"/> **What to do if tests fail**\n",
    "When a test fails, `pytest` will mark it as `FAILED` as opposed to `PASSED`, and will print a lot of useful output, including a message that should tell you what the problem is. For example, this is the output of a failed test:\n",
    "> ```\n",
    ">    def test_data_loaders_keys(data_loaders):\n",
    ">    \n",
    ">       assert set(data_loaders.keys()) == {\"train\", \"valid\", \"test\"}\n",
    "E       AssertionError: assert {'tes', 'train', 'valid'} == {'test', 'train', 'valid'}\n",
    "E         Extra items in the left set:\n",
    "E         'tes'\n",
    "E         Full diff:\n",
    "E         - {'test', 'train', 'valid'}\n",
    "E         + {'tes', 'train', 'valid'}\n",
    "E         ?                          +++++++\n",
    ">\n",
    "> src/data.py:171: AssertionError\n",
    "-------------- Captured stdout setup ----------------------------------------------\n",
    "Reusing cached mean and std for landmark_images\n",
    "Dataset mean: tensor([0.4638, 0.4725, 0.4687]), std: tensor([0.2699, 0.2706, 0.3018])\n",
    "=========== short test summary info ===============================================\n",
    "FAILED src/data.py::test_data_loaders_keys - AssertionError: The keys of the data_loaders dictionary should be train, valid and test\n",
    "> ``` \n",
    "> In the `short test summary info` you can see a short description of the problem. In this case, the dictionary we are returning has the wrong keys. Going above a little, you can see that the test expects `{'test', 'train', 'valid'}` while we are returning `{'tes', 'train', 'valid'}` (there is a missing `t`). So we can go back to our function, fix that problem and test again.\n",
    "> \n",
    "> In other cases, you might get an error like:\n",
    "> ```\n",
    "    def _conv_forward(self, input: Tensor, weight: Tensor, bias: Optional[Tensor]):\n",
    "        if self.padding_mode != 'zeros':\n",
    "            return F.conv2d(F.pad(input, self._reversed_padding_repeated_twice, mode=self.padding_mode),\n",
    "                            weight, bias, self.stride,\n",
    "                            _pair(0), self.dilation, self.groups)\n",
    "        return F.conv2d(input, weight, bias, self.stride,\n",
    ">                       self.padding, self.dilation, self.groups)\n",
    "E       RuntimeError: Input type (torch.cuda.FloatTensor) and weight type (torch.FloatTensor) should be the same\n",
    ">\n",
    "> ../../../../miniconda3/envs/udacity_starter/lib/python3.7/site-packages/torch/nn/modules/conv.py:440: RuntimeError\n",
    "> ```\n",
    "> Looking at the stack trace you should be able to understand what it is going on. In this case, we forgot to add a `.cuda()` to some tensor. For example, the model is on the GPU, but the data aren't."
   ]
  },
  {
   "cell_type": "markdown",
   "metadata": {},
   "source": [
    "<img src=\"static_images/icons/noun-question-mark-869751.png\" alt=\"?\" style=\"width:25px\"/> **Question:** Describe your chosen procedure for preprocessing the data. \n",
    "- How does your code resize the images (by cropping, stretching, etc)?  What size did you pick for the input tensor, and why?\n",
    "- Did you decide to augment the dataset?  If so, how (through translations, flips, rotations, etc)?  If not, why not?"
   ]
  },
  {
   "cell_type": "markdown",
   "metadata": {},
   "source": [
    "<img src=\"static_images/icons/noun-answer-3361020.png\" alt=\">\" style=\"width:25px\"/> **Answer**: \n",
    "\n"
   ]
  },
  {
   "cell_type": "markdown",
   "metadata": {},
   "source": [
    "### Visualize a Batch of Training Data\n",
    "\n",
    "Go back to `src/data.py` and complete the function `visualize_one_batch` in all places with the `YOUR CODE HERE` marker. After you're done, execute the following cell and make sure the test `src/data.py::test_visualize_one_batch` is `PASSED`:"
   ]
  },
  {
   "cell_type": "code",
   "execution_count": 3,
   "metadata": {},
   "outputs": [
    {
     "name": "stdout",
     "output_type": "stream",
     "text": [
      "\u001b[1m============================= test session starts ==============================\u001b[0m\n",
      "platform linux -- Python 3.7.6, pytest-7.1.1, pluggy-1.2.0 -- /opt/conda/bin/python3.7\n",
      "cachedir: .pytest_cache\n",
      "rootdir: /workspace/home\n",
      "collected 4 items / 3 deselected / 1 selected                                  \u001b[0m\u001b[1m\n",
      "\n",
      "src/data.py::test_visualize_one_batch \u001b[32mPASSED\u001b[0m\u001b[32m                             [100%]\u001b[0m\n",
      "\n",
      "\u001b[32m======================= \u001b[32m\u001b[1m1 passed\u001b[0m, \u001b[33m3 deselected\u001b[0m\u001b[32m in 7.08s\u001b[0m\u001b[32m ========================\u001b[0m\n"
     ]
    }
   ],
   "source": [
    "!pytest -vv src/data.py -k visualize_one_batch"
   ]
  },
  {
   "cell_type": "markdown",
   "metadata": {},
   "source": [
    "We can now use the code we just completed to get a batch of images from your train data loader and look at them.\n",
    "\n",
    "Visualizing the output of your data loader is a great way to ensure that your data loading and preprocessing (including transforms such as rotations, translations, color transforms...) are working as expected."
   ]
  },
  {
   "cell_type": "code",
   "execution_count": 8,
   "metadata": {},
   "outputs": [
    {
     "name": "stdout",
     "output_type": "stream",
     "text": [
      "Reusing cached mean and std\n",
      "Dataset mean: tensor([0.4638, 0.4725, 0.4687]), std: tensor([0.2699, 0.2706, 0.3018])\n",
      "Reusing cached mean and std\n"
     ]
    },
    {
     "data": {
      "image/png": "[encoded data removed]",
      "text/plain": [
       "<Figure size 1800x288 with 5 Axes>"
      ]
     },
     "metadata": {},
     "output_type": "display_data"
    }
   ],
   "source": [
    "%matplotlib inline\n",
    "from src.data import visualize_one_batch, get_data_loaders\n",
    "\n",
    "# use get_data_loaders to get the data_loaders dictionary. Use a batch_size\n",
    "# of 5, a validation size of 0.01 and num_workers=-1 (all CPUs)\n",
    "data_loaders = get_data_loaders(batch_size=5, valid_size=0.01, num_workers=2)\n",
    "\n",
    "visualize_one_batch(data_loaders)"
   ]
  },
  {
   "cell_type": "markdown",
   "metadata": {},
   "source": [
    "---\n",
    "## <img src=\"static_images/icons/noun-advance-2109145.png\" alt=\">\" style=\"width:50px\"/> Step 2: Define model\n",
    "\n",
    "Open `src/model.py` and complete the `MyModel` class filling in all the `YOUR CODE HERE` sections. After you're done, execute the following test and make sure it passes:"
   ]
  },
  {
   "cell_type": "code",
   "execution_count": 4,
   "metadata": {},
   "outputs": [
    {
     "name": "stdout",
     "output_type": "stream",
     "text": [
      "\u001b[1m============================= test session starts ==============================\u001b[0m\n",
      "platform linux -- Python 3.7.6, pytest-7.1.1, pluggy-1.2.0 -- /opt/conda/bin/python3.7\n",
      "cachedir: .pytest_cache\n",
      "rootdir: /workspace/home\n",
      "collected 1 item                                                               \u001b[0m\u001b[1m\n",
      "\n",
      "src/model.py::test_model_construction \u001b[32mPASSED\u001b[0m\u001b[32m                             [100%]\u001b[0m\n",
      "\n",
      "\u001b[32m============================== \u001b[32m\u001b[1m1 passed\u001b[0m\u001b[32m in 8.95s\u001b[0m\u001b[32m ===============================\u001b[0m\n"
     ]
    }
   ],
   "source": [
    "!pytest -vv src/model.py"
   ]
  },
  {
   "cell_type": "markdown",
   "metadata": {},
   "source": [
    "<img src=\"static_images/icons/noun-question-mark-869751.png\" alt=\"?\" style=\"width:25px\"/> **Question**: Outline the steps you took to get to your final CNN architecture and your reasoning at each step.  "
   ]
  },
  {
   "cell_type": "markdown",
   "metadata": {},
   "source": [
    "<img src=\"static_images/icons/noun-answer-3361020.png\" alt=\">\" style=\"width:25px\"/> __Answer:__ \n",
    "\n",
    "I decided to use a4 convolutional layers so that more features  could be extracted I previously used three but after adding one extra layer my performance improved and the number of parameters in the fully connected layers are numbers divisible by 4 and 8 and 2, I see it as a good practice than guessing my parameters"
   ]
  },
  {
   "cell_type": "markdown",
   "metadata": {},
   "source": [
    "---\n",
    "## <img src=\"static_images/icons/noun-advance-2109145.png\" alt=\">\" style=\"width:50px\"/> Step 3: define loss and optimizer\n",
    "\n",
    "Open `src/optimization.py` and complete the `get_loss` function, then execute the test and make sure it passes:"
   ]
  },
  {
   "cell_type": "code",
   "execution_count": 5,
   "metadata": {},
   "outputs": [
    {
     "name": "stdout",
     "output_type": "stream",
     "text": [
      "\u001b[1m============================= test session starts ==============================\u001b[0m\n",
      "platform linux -- Python 3.7.6, pytest-7.1.1, pluggy-1.2.0 -- /opt/conda/bin/python3.7\n",
      "cachedir: .pytest_cache\n",
      "rootdir: /workspace/home\n",
      "collected 7 items / 6 deselected / 1 selected                                  \u001b[0m\u001b[1m\n",
      "\n",
      "src/optimization.py::test_get_loss \u001b[32mPASSED\u001b[0m\u001b[32m                                [100%]\u001b[0m\n",
      "\n",
      "\u001b[32m======================= \u001b[32m\u001b[1m1 passed\u001b[0m, \u001b[33m6 deselected\u001b[0m\u001b[32m in 1.95s\u001b[0m\u001b[32m ========================\u001b[0m\n"
     ]
    }
   ],
   "source": [
    "!pytest -vv src/optimization.py -k get_loss"
   ]
  },
  {
   "cell_type": "markdown",
   "metadata": {},
   "source": [
    "Then, in the same file, complete the `get_optimizer` function then execute its tests, and make sure they all pass:"
   ]
  },
  {
   "cell_type": "code",
   "execution_count": 6,
   "metadata": {},
   "outputs": [
    {
     "name": "stdout",
     "output_type": "stream",
     "text": [
      "\u001b[1m============================= test session starts ==============================\u001b[0m\n",
      "platform linux -- Python 3.7.6, pytest-7.1.1, pluggy-1.2.0 -- /opt/conda/bin/python3.7\n",
      "cachedir: .pytest_cache\n",
      "rootdir: /workspace/home\n",
      "collected 7 items / 1 deselected / 6 selected                                  \u001b[0m\u001b[1m\n",
      "\n",
      "src/optimization.py::test_get_optimizer_type \u001b[32mPASSED\u001b[0m\u001b[32m                      [ 16%]\u001b[0m\n",
      "src/optimization.py::test_get_optimizer_is_linked_with_model \u001b[32mPASSED\u001b[0m\u001b[32m      [ 33%]\u001b[0m\n",
      "src/optimization.py::test_get_optimizer_returns_adam \u001b[32mPASSED\u001b[0m\u001b[32m              [ 50%]\u001b[0m\n",
      "src/optimization.py::test_get_optimizer_sets_learning_rate \u001b[32mPASSED\u001b[0m\u001b[32m        [ 66%]\u001b[0m\n",
      "src/optimization.py::test_get_optimizer_sets_momentum \u001b[32mPASSED\u001b[0m\u001b[32m             [ 83%]\u001b[0m\n",
      "src/optimization.py::test_get_optimizer_sets_weight_decat \u001b[32mPASSED\u001b[0m\u001b[32m         [100%]\u001b[0m\n",
      "\n",
      "\u001b[32m======================= \u001b[32m\u001b[1m6 passed\u001b[0m, \u001b[33m1 deselected\u001b[0m\u001b[32m in 2.02s\u001b[0m\u001b[32m ========================\u001b[0m\n"
     ]
    }
   ],
   "source": [
    "!pytest -vv src/optimization.py -k get_optimizer"
   ]
  },
  {
   "cell_type": "markdown",
   "metadata": {},
   "source": [
    "---\n",
    "## <img src=\"static_images/icons/noun-advance-2109145.png\" alt=\">\" style=\"width:50px\"/> Step 4: Train and Validate the Model\n",
    "\n",
    "> <img src=\"static_images/icons/noun-info-2558213.png\" alt=\"?\" style=\"width:25px\"/> Testing ML code is notoriously difficult. The tests in this section merely exercise the functions you are completing, so it will help you catching glaring problems but it won't guarantee that your training code is bug-free. If you see that your loss is not decreasing, for example, that's a sign of a bug or of a flawed model design. Use your judgement.\n",
    "\n",
    "Open `src/train.py` and complete the `train_one_epoch` function, then run the tests:"
   ]
  },
  {
   "cell_type": "code",
   "execution_count": 5,
   "metadata": {},
   "outputs": [
    {
     "name": "stdout",
     "output_type": "stream",
     "text": [
      "\u001b[1m============================= test session starts ==============================\u001b[0m\n",
      "platform linux -- Python 3.7.6, pytest-7.1.1, pluggy-1.2.0 -- /opt/conda/bin/python3.7\n",
      "cachedir: .pytest_cache\n",
      "rootdir: /workspace/home\n",
      "collected 4 items / 3 deselected / 1 selected                                  \u001b[0m\u001b[1m\n",
      "\n",
      "src/train.py::test_train_one_epoch \u001b[32mPASSED\u001b[0m\u001b[32m                                [100%]\u001b[0m\n",
      "\n",
      "\u001b[32m================== \u001b[32m\u001b[1m1 passed\u001b[0m, \u001b[33m3 deselected\u001b[0m\u001b[32m in 69.79s (0:01:09)\u001b[0m\u001b[32m ==================\u001b[0m\n"
     ]
    }
   ],
   "source": [
    "!pytest -vv src/train.py -k train_one_epoch"
   ]
  },
  {
   "cell_type": "markdown",
   "metadata": {},
   "source": [
    "Now complete the `valid` function, then run the tests:"
   ]
  },
  {
   "cell_type": "code",
   "execution_count": 13,
   "metadata": {},
   "outputs": [
    {
     "name": "stdout",
     "output_type": "stream",
     "text": [
      "\u001b[1m============================= test session starts ==============================\u001b[0m\n",
      "platform linux -- Python 3.7.6, pytest-7.1.1, pluggy-1.2.0 -- /opt/conda/bin/python3.7\n",
      "cachedir: .pytest_cache\n",
      "rootdir: /workspace/home\n",
      "collected 4 items / 3 deselected / 1 selected                                  \u001b[0m\u001b[1m\n",
      "\n",
      "src/train.py::test_valid_one_epoch \u001b[32mPASSED\u001b[0m\u001b[32m                                [100%]\u001b[0m\n",
      "\n",
      "\u001b[32m================= \u001b[32m\u001b[1m1 passed\u001b[0m, \u001b[33m3 deselected\u001b[0m\u001b[32m in 140.50s (0:02:20)\u001b[0m\u001b[32m ==================\u001b[0m\n"
     ]
    }
   ],
   "source": [
    "!pytest -vv src/train.py -k valid_one_epoch"
   ]
  },
  {
   "cell_type": "markdown",
   "metadata": {},
   "source": [
    "Now complete the `optimize` function, then run the tests:"
   ]
  },
  {
   "cell_type": "code",
   "execution_count": 6,
   "metadata": {},
   "outputs": [
    {
     "name": "stdout",
     "output_type": "stream",
     "text": [
      "\u001b[1m============================= test session starts ==============================\u001b[0m\n",
      "platform linux -- Python 3.7.6, pytest-7.1.1, pluggy-1.2.0 -- /opt/conda/bin/python3.7\n",
      "cachedir: .pytest_cache\n",
      "rootdir: /workspace/home\n",
      "collected 4 items / 3 deselected / 1 selected                                  \u001b[0m\u001b[1m\n",
      "\n",
      "src/train.py::test_optimize \u001b[32mPASSED\u001b[0m\u001b[32m                                       [100%]\u001b[0m\n",
      "\n",
      "\u001b[32m================= \u001b[32m\u001b[1m1 passed\u001b[0m, \u001b[33m3 deselected\u001b[0m\u001b[32m in 124.62s (0:02:04)\u001b[0m\u001b[32m ==================\u001b[0m\n"
     ]
    }
   ],
   "source": [
    "!pytest -vv src/train.py -k optimize"
   ]
  },
  {
   "cell_type": "markdown",
   "metadata": {},
   "source": [
    "Finally, complete the `test` function then run the tests:"
   ]
  },
  {
   "cell_type": "code",
   "execution_count": 15,
   "metadata": {},
   "outputs": [
    {
     "name": "stdout",
     "output_type": "stream",
     "text": [
      "\u001b[1m============================= test session starts ==============================\u001b[0m\n",
      "platform linux -- Python 3.7.6, pytest-7.1.1, pluggy-1.2.0 -- /opt/conda/bin/python3.7\n",
      "cachedir: .pytest_cache\n",
      "rootdir: /workspace/home\n",
      "collected 4 items / 3 deselected / 1 selected                                  \u001b[0m\u001b[1m\n",
      "\n",
      "src/train.py::test_one_epoch_test \u001b[32mPASSED\u001b[0m\u001b[32m                                 [100%]\u001b[0m\n",
      "\n",
      "\u001b[32m================== \u001b[32m\u001b[1m1 passed\u001b[0m, \u001b[33m3 deselected\u001b[0m\u001b[32m in 71.25s (0:01:11)\u001b[0m\u001b[32m ==================\u001b[0m\n"
     ]
    }
   ],
   "source": [
    "!pytest -vv src/train.py -k one_epoch_test"
   ]
  },
  {
   "cell_type": "markdown",
   "metadata": {},
   "source": [
    "---\n",
    "## <img src=\"static_images/icons/noun-advance-2109145.png\" alt=\">\" style=\"width:50px\"/> Step 5: Putting everything together\n",
    "\n",
    "Allright, good job getting here! Now it's time to see if all our hard work pays off. In the following cell we will train your model and validate it against the validation set.\n",
    "\n",
    "Let's start by defining a few hyperparameters. Feel free to experiment with different values and try to optimize your model:"
   ]
  },
  {
   "cell_type": "code",
   "execution_count": 7,
   "metadata": {},
   "outputs": [],
   "source": [
    "batch_size = 64        # size of the minibatch for stochastic gradient descent (or Adam)\n",
    "valid_size = 0.2       # fraction of the training data to reserve for validation\n",
    "num_epochs = 70       # number of epochs for training\n",
    "num_classes = 50       # number of classes. Do not change this\n",
    "dropout = 0.2          # dropout for our model\n",
    "learning_rate = 0.001  # Learning rate for SGD (or Adam)\n",
    "opt = 'adam'            # optimizer. 'sgd' or 'adam'\n",
    "weight_decay = 0.0     # regularization. Increase this to combat overfitting"
   ]
  },
  {
   "cell_type": "code",
   "execution_count": 9,
   "metadata": {},
   "outputs": [],
   "source": [
    "import torch\n",
    "torch.cuda.empty_cache()"
   ]
  },
  {
   "cell_type": "code",
   "execution_count": 10,
   "metadata": {},
   "outputs": [
    {
     "name": "stdout",
     "output_type": "stream",
     "text": [
      "Reusing cached mean and std\n",
      "Dataset mean: tensor([0.4638, 0.4725, 0.4687]), std: tensor([0.2699, 0.2706, 0.3018])\n"
     ]
    },
    {
     "name": "stderr",
     "output_type": "stream",
     "text": [
      "Training: 100%|█████████████████████████████████| 63/63 [01:08<00:00,  1.09s/it]\n",
      "Validating: 100%|███████████████████████████████| 63/63 [00:57<00:00,  1.09it/s]\n"
     ]
    },
    {
     "name": "stdout",
     "output_type": "stream",
     "text": [
      "Epoch: 1 \tTraining Loss: 4.164510 \tValidation Loss: 3.820343\n",
      "New minimum validation loss: 3.820343. Saving model ...\n"
     ]
    },
    {
     "name": "stderr",
     "output_type": "stream",
     "text": [
      "Training: 100%|█████████████████████████████████| 63/63 [01:00<00:00,  1.03it/s]\n",
      "Validating: 100%|███████████████████████████████| 63/63 [00:57<00:00,  1.09it/s]\n"
     ]
    },
    {
     "name": "stdout",
     "output_type": "stream",
     "text": [
      "Epoch: 2 \tTraining Loss: 3.823854 \tValidation Loss: 3.741657\n",
      "New minimum validation loss: 3.741657. Saving model ...\n"
     ]
    },
    {
     "name": "stderr",
     "output_type": "stream",
     "text": [
      "Training: 100%|█████████████████████████████████| 63/63 [01:01<00:00,  1.03it/s]\n",
      "Validating: 100%|███████████████████████████████| 63/63 [00:58<00:00,  1.08it/s]\n"
     ]
    },
    {
     "name": "stdout",
     "output_type": "stream",
     "text": [
      "Epoch: 3 \tTraining Loss: 3.772287 \tValidation Loss: 3.669576\n",
      "New minimum validation loss: 3.669576. Saving model ...\n"
     ]
    },
    {
     "name": "stderr",
     "output_type": "stream",
     "text": [
      "Training: 100%|█████████████████████████████████| 63/63 [01:01<00:00,  1.03it/s]\n",
      "Validating: 100%|███████████████████████████████| 63/63 [00:58<00:00,  1.08it/s]\n"
     ]
    },
    {
     "name": "stdout",
     "output_type": "stream",
     "text": [
      "Epoch: 4 \tTraining Loss: 3.697375 \tValidation Loss: 3.611004\n",
      "New minimum validation loss: 3.611004. Saving model ...\n"
     ]
    },
    {
     "name": "stderr",
     "output_type": "stream",
     "text": [
      "Training: 100%|█████████████████████████████████| 63/63 [01:00<00:00,  1.04it/s]\n",
      "Validating: 100%|███████████████████████████████| 63/63 [00:57<00:00,  1.09it/s]\n"
     ]
    },
    {
     "name": "stdout",
     "output_type": "stream",
     "text": [
      "Epoch: 5 \tTraining Loss: 3.653912 \tValidation Loss: 3.534275\n",
      "New minimum validation loss: 3.534275. Saving model ...\n"
     ]
    },
    {
     "name": "stderr",
     "output_type": "stream",
     "text": [
      "Training: 100%|█████████████████████████████████| 63/63 [01:01<00:00,  1.03it/s]\n",
      "Validating: 100%|███████████████████████████████| 63/63 [00:57<00:00,  1.09it/s]"
     ]
    },
    {
     "name": "stdout",
     "output_type": "stream",
     "text": [
      "Epoch: 6 \tTraining Loss: 3.612949 \tValidation Loss: 3.511995\n"
     ]
    },
    {
     "name": "stderr",
     "output_type": "stream",
     "text": [
      "\n",
      "Training: 100%|█████████████████████████████████| 63/63 [01:01<00:00,  1.03it/s]\n",
      "Validating: 100%|███████████████████████████████| 63/63 [00:57<00:00,  1.09it/s]\n"
     ]
    },
    {
     "name": "stdout",
     "output_type": "stream",
     "text": [
      "Epoch: 7 \tTraining Loss: 3.581458 \tValidation Loss: 3.408653\n",
      "New minimum validation loss: 3.408653. Saving model ...\n"
     ]
    },
    {
     "name": "stderr",
     "output_type": "stream",
     "text": [
      "Training: 100%|█████████████████████████████████| 63/63 [01:00<00:00,  1.03it/s]\n",
      "Validating: 100%|███████████████████████████████| 63/63 [00:58<00:00,  1.08it/s]"
     ]
    },
    {
     "name": "stdout",
     "output_type": "stream",
     "text": [
      "Epoch: 8 \tTraining Loss: 3.529409 \tValidation Loss: 3.413738\n"
     ]
    },
    {
     "name": "stderr",
     "output_type": "stream",
     "text": [
      "\n",
      "Training: 100%|█████████████████████████████████| 63/63 [01:01<00:00,  1.03it/s]\n",
      "Validating: 100%|███████████████████████████████| 63/63 [00:57<00:00,  1.09it/s]"
     ]
    },
    {
     "name": "stdout",
     "output_type": "stream",
     "text": [
      "Epoch: 9 \tTraining Loss: 3.513318 \tValidation Loss: 3.453446\n"
     ]
    },
    {
     "name": "stderr",
     "output_type": "stream",
     "text": [
      "\n",
      "Training: 100%|█████████████████████████████████| 63/63 [01:01<00:00,  1.03it/s]\n",
      "Validating: 100%|███████████████████████████████| 63/63 [00:57<00:00,  1.09it/s]\n"
     ]
    },
    {
     "name": "stdout",
     "output_type": "stream",
     "text": [
      "Epoch: 10 \tTraining Loss: 3.463022 \tValidation Loss: 3.315853\n",
      "New minimum validation loss: 3.315853. Saving model ...\n"
     ]
    },
    {
     "name": "stderr",
     "output_type": "stream",
     "text": [
      "Training: 100%|█████████████████████████████████| 63/63 [01:00<00:00,  1.03it/s]\n",
      "Validating: 100%|███████████████████████████████| 63/63 [00:58<00:00,  1.09it/s]"
     ]
    },
    {
     "name": "stdout",
     "output_type": "stream",
     "text": [
      "Epoch: 11 \tTraining Loss: 3.421892 \tValidation Loss: 3.433085\n"
     ]
    },
    {
     "name": "stderr",
     "output_type": "stream",
     "text": [
      "\n",
      "Training: 100%|█████████████████████████████████| 63/63 [01:01<00:00,  1.02it/s]\n",
      "Validating: 100%|███████████████████████████████| 63/63 [00:57<00:00,  1.09it/s]\n"
     ]
    },
    {
     "name": "stdout",
     "output_type": "stream",
     "text": [
      "Epoch: 12 \tTraining Loss: 3.396529 \tValidation Loss: 3.248707\n",
      "New minimum validation loss: 3.248707. Saving model ...\n"
     ]
    },
    {
     "name": "stderr",
     "output_type": "stream",
     "text": [
      "Training: 100%|█████████████████████████████████| 63/63 [01:01<00:00,  1.03it/s]\n",
      "Validating: 100%|███████████████████████████████| 63/63 [00:58<00:00,  1.08it/s]"
     ]
    },
    {
     "name": "stdout",
     "output_type": "stream",
     "text": [
      "Epoch: 13 \tTraining Loss: 3.381028 \tValidation Loss: 3.246610\n"
     ]
    },
    {
     "name": "stderr",
     "output_type": "stream",
     "text": [
      "\n",
      "Training: 100%|█████████████████████████████████| 63/63 [01:01<00:00,  1.03it/s]\n",
      "Validating: 100%|███████████████████████████████| 63/63 [00:59<00:00,  1.06it/s]\n"
     ]
    },
    {
     "name": "stdout",
     "output_type": "stream",
     "text": [
      "Epoch: 14 \tTraining Loss: 3.326496 \tValidation Loss: 3.196311\n",
      "New minimum validation loss: 3.196311. Saving model ...\n"
     ]
    },
    {
     "name": "stderr",
     "output_type": "stream",
     "text": [
      "Training: 100%|█████████████████████████████████| 63/63 [01:00<00:00,  1.03it/s]\n",
      "Validating: 100%|███████████████████████████████| 63/63 [00:58<00:00,  1.09it/s]\n"
     ]
    },
    {
     "name": "stdout",
     "output_type": "stream",
     "text": [
      "Epoch: 15 \tTraining Loss: 3.297245 \tValidation Loss: 3.128891\n",
      "New minimum validation loss: 3.128891. Saving model ...\n"
     ]
    },
    {
     "name": "stderr",
     "output_type": "stream",
     "text": [
      "Training: 100%|█████████████████████████████████| 63/63 [01:01<00:00,  1.02it/s]\n",
      "Validating: 100%|███████████████████████████████| 63/63 [00:57<00:00,  1.09it/s]"
     ]
    },
    {
     "name": "stdout",
     "output_type": "stream",
     "text": [
      "Epoch: 16 \tTraining Loss: 3.254309 \tValidation Loss: 3.132429\n"
     ]
    },
    {
     "name": "stderr",
     "output_type": "stream",
     "text": [
      "\n",
      "Training: 100%|█████████████████████████████████| 63/63 [01:01<00:00,  1.03it/s]\n",
      "Validating: 100%|███████████████████████████████| 63/63 [00:57<00:00,  1.09it/s]"
     ]
    },
    {
     "name": "stdout",
     "output_type": "stream",
     "text": [
      "Epoch: 17 \tTraining Loss: 3.268816 \tValidation Loss: 3.124562\n"
     ]
    },
    {
     "name": "stderr",
     "output_type": "stream",
     "text": [
      "\n",
      "Training: 100%|█████████████████████████████████| 63/63 [01:00<00:00,  1.04it/s]\n",
      "Validating: 100%|███████████████████████████████| 63/63 [00:57<00:00,  1.09it/s]\n"
     ]
    },
    {
     "name": "stdout",
     "output_type": "stream",
     "text": [
      "Epoch: 18 \tTraining Loss: 3.197882 \tValidation Loss: 3.044104\n",
      "New minimum validation loss: 3.044104. Saving model ...\n"
     ]
    },
    {
     "name": "stderr",
     "output_type": "stream",
     "text": [
      "Validating: 100%|███████████████████████████████| 63/63 [00:57<00:00,  1.09it/s]\n"
     ]
    },
    {
     "name": "stdout",
     "output_type": "stream",
     "text": [
      "Epoch: 19 \tTraining Loss: 3.201812 \tValidation Loss: 3.012968\n",
      "New minimum validation loss: 3.012968. Saving model ...\n"
     ]
    },
    {
     "name": "stderr",
     "output_type": "stream",
     "text": [
      "Training: 100%|█████████████████████████████████| 63/63 [01:01<00:00,  1.03it/s]\n",
      "Validating: 100%|███████████████████████████████| 63/63 [00:57<00:00,  1.09it/s]"
     ]
    },
    {
     "name": "stdout",
     "output_type": "stream",
     "text": [
      "Epoch: 20 \tTraining Loss: 3.161299 \tValidation Loss: 2.988002\n"
     ]
    },
    {
     "name": "stderr",
     "output_type": "stream",
     "text": [
      "\n",
      "Training: 100%|█████████████████████████████████| 63/63 [01:00<00:00,  1.03it/s]\n",
      "Validating: 100%|███████████████████████████████| 63/63 [00:57<00:00,  1.10it/s]\n"
     ]
    },
    {
     "name": "stdout",
     "output_type": "stream",
     "text": [
      "Epoch: 21 \tTraining Loss: 3.120954 \tValidation Loss: 2.939654\n",
      "New minimum validation loss: 2.939654. Saving model ...\n"
     ]
    },
    {
     "name": "stderr",
     "output_type": "stream",
     "text": [
      "Training: 100%|█████████████████████████████████| 63/63 [01:00<00:00,  1.04it/s]\n",
      "Validating: 100%|███████████████████████████████| 63/63 [00:58<00:00,  1.08it/s]\n"
     ]
    },
    {
     "name": "stdout",
     "output_type": "stream",
     "text": [
      "Epoch: 22 \tTraining Loss: 3.064876 \tValidation Loss: 2.893500\n",
      "New minimum validation loss: 2.893500. Saving model ...\n"
     ]
    },
    {
     "name": "stderr",
     "output_type": "stream",
     "text": [
      "Training: 100%|█████████████████████████████████| 63/63 [01:01<00:00,  1.03it/s]\n",
      "Validating: 100%|███████████████████████████████| 63/63 [00:57<00:00,  1.09it/s]"
     ]
    },
    {
     "name": "stdout",
     "output_type": "stream",
     "text": [
      "Epoch: 23 \tTraining Loss: 3.032860 \tValidation Loss: 2.907892\n"
     ]
    },
    {
     "name": "stderr",
     "output_type": "stream",
     "text": [
      "\n",
      "Training: 100%|█████████████████████████████████| 63/63 [01:00<00:00,  1.04it/s]\n",
      "Validating: 100%|███████████████████████████████| 63/63 [00:57<00:00,  1.10it/s]\n"
     ]
    },
    {
     "name": "stdout",
     "output_type": "stream",
     "text": [
      "Epoch: 24 \tTraining Loss: 3.054708 \tValidation Loss: 2.823572\n",
      "New minimum validation loss: 2.823572. Saving model ...\n"
     ]
    },
    {
     "name": "stderr",
     "output_type": "stream",
     "text": [
      "Training: 100%|█████████████████████████████████| 63/63 [01:00<00:00,  1.04it/s]\n",
      "Validating: 100%|███████████████████████████████| 63/63 [00:58<00:00,  1.08it/s]"
     ]
    },
    {
     "name": "stdout",
     "output_type": "stream",
     "text": [
      "Epoch: 25 \tTraining Loss: 3.029561 \tValidation Loss: 2.818720\n"
     ]
    },
    {
     "name": "stderr",
     "output_type": "stream",
     "text": [
      "\n",
      "Training: 100%|█████████████████████████████████| 63/63 [01:00<00:00,  1.04it/s]\n",
      "Validating: 100%|███████████████████████████████| 63/63 [00:57<00:00,  1.09it/s]\n"
     ]
    },
    {
     "name": "stdout",
     "output_type": "stream",
     "text": [
      "Epoch: 26 \tTraining Loss: 2.992237 \tValidation Loss: 2.775936\n",
      "New minimum validation loss: 2.775936. Saving model ...\n"
     ]
    },
    {
     "name": "stderr",
     "output_type": "stream",
     "text": [
      "Training: 100%|█████████████████████████████████| 63/63 [01:00<00:00,  1.04it/s]\n",
      "Validating: 100%|███████████████████████████████| 63/63 [00:57<00:00,  1.09it/s]\n"
     ]
    },
    {
     "name": "stdout",
     "output_type": "stream",
     "text": [
      "Epoch: 27 \tTraining Loss: 2.956762 \tValidation Loss: 2.698313\n",
      "New minimum validation loss: 2.698313. Saving model ...\n"
     ]
    },
    {
     "name": "stderr",
     "output_type": "stream",
     "text": [
      "Training: 100%|█████████████████████████████████| 63/63 [01:01<00:00,  1.03it/s]\n",
      "Validating: 100%|███████████████████████████████| 63/63 [00:57<00:00,  1.09it/s]"
     ]
    },
    {
     "name": "stdout",
     "output_type": "stream",
     "text": [
      "Epoch: 28 \tTraining Loss: 2.933743 \tValidation Loss: 2.832623\n"
     ]
    },
    {
     "name": "stderr",
     "output_type": "stream",
     "text": [
      "\n",
      "Training: 100%|█████████████████████████████████| 63/63 [01:00<00:00,  1.04it/s]\n",
      "Validating: 100%|███████████████████████████████| 63/63 [00:57<00:00,  1.09it/s]"
     ]
    },
    {
     "name": "stdout",
     "output_type": "stream",
     "text": [
      "Epoch: 29 \tTraining Loss: 2.904515 \tValidation Loss: 2.732517\n"
     ]
    },
    {
     "name": "stderr",
     "output_type": "stream",
     "text": [
      "\n",
      "Training: 100%|█████████████████████████████████| 63/63 [01:01<00:00,  1.03it/s]\n",
      "Validating: 100%|███████████████████████████████| 63/63 [00:57<00:00,  1.09it/s]"
     ]
    },
    {
     "name": "stdout",
     "output_type": "stream",
     "text": [
      "Epoch: 30 \tTraining Loss: 2.894513 \tValidation Loss: 2.701344\n"
     ]
    },
    {
     "name": "stderr",
     "output_type": "stream",
     "text": [
      "\n",
      "Training: 100%|█████████████████████████████████| 63/63 [01:00<00:00,  1.04it/s]\n",
      "Validating: 100%|███████████████████████████████| 63/63 [00:57<00:00,  1.10it/s]\n"
     ]
    },
    {
     "name": "stdout",
     "output_type": "stream",
     "text": [
      "Epoch: 31 \tTraining Loss: 2.877894 \tValidation Loss: 2.654601\n",
      "New minimum validation loss: 2.654601. Saving model ...\n"
     ]
    },
    {
     "name": "stderr",
     "output_type": "stream",
     "text": [
      "Training: 100%|█████████████████████████████████| 63/63 [01:00<00:00,  1.04it/s]\n",
      "Validating: 100%|███████████████████████████████| 63/63 [00:57<00:00,  1.09it/s]\n"
     ]
    },
    {
     "name": "stdout",
     "output_type": "stream",
     "text": [
      "Epoch: 32 \tTraining Loss: 2.849308 \tValidation Loss: 2.622470\n",
      "New minimum validation loss: 2.622470. Saving model ...\n"
     ]
    },
    {
     "name": "stderr",
     "output_type": "stream",
     "text": [
      "Training: 100%|█████████████████████████████████| 63/63 [01:01<00:00,  1.03it/s]\n",
      "Validating: 100%|███████████████████████████████| 63/63 [00:57<00:00,  1.09it/s]\n"
     ]
    },
    {
     "name": "stdout",
     "output_type": "stream",
     "text": [
      "Epoch: 33 \tTraining Loss: 2.837618 \tValidation Loss: 2.549875\n",
      "New minimum validation loss: 2.549875. Saving model ...\n"
     ]
    },
    {
     "name": "stderr",
     "output_type": "stream",
     "text": [
      "Training: 100%|█████████████████████████████████| 63/63 [01:00<00:00,  1.03it/s]\n",
      "Validating: 100%|███████████████████████████████| 63/63 [00:57<00:00,  1.09it/s]"
     ]
    },
    {
     "name": "stdout",
     "output_type": "stream",
     "text": [
      "Epoch: 34 \tTraining Loss: 2.809681 \tValidation Loss: 2.573691\n"
     ]
    },
    {
     "name": "stderr",
     "output_type": "stream",
     "text": [
      "\n",
      "Training: 100%|█████████████████████████████████| 63/63 [01:00<00:00,  1.03it/s]\n",
      "Validating: 100%|███████████████████████████████| 63/63 [00:57<00:00,  1.09it/s]"
     ]
    },
    {
     "name": "stdout",
     "output_type": "stream",
     "text": [
      "Epoch: 35 \tTraining Loss: 2.768470 \tValidation Loss: 2.538613\n"
     ]
    },
    {
     "name": "stderr",
     "output_type": "stream",
     "text": [
      "\n",
      "Training: 100%|█████████████████████████████████| 63/63 [01:01<00:00,  1.03it/s]\n",
      "Validating: 100%|███████████████████████████████| 63/63 [00:57<00:00,  1.10it/s]"
     ]
    },
    {
     "name": "stdout",
     "output_type": "stream",
     "text": [
      "Epoch: 36 \tTraining Loss: 2.801226 \tValidation Loss: 2.543005\n"
     ]
    },
    {
     "name": "stderr",
     "output_type": "stream",
     "text": [
      "\n",
      "Training: 100%|█████████████████████████████████| 63/63 [01:00<00:00,  1.04it/s]\n",
      "Validating: 100%|███████████████████████████████| 63/63 [00:57<00:00,  1.09it/s]\n"
     ]
    },
    {
     "name": "stdout",
     "output_type": "stream",
     "text": [
      "Epoch: 37 \tTraining Loss: 2.772915 \tValidation Loss: 2.519195\n",
      "New minimum validation loss: 2.519195. Saving model ...\n"
     ]
    },
    {
     "name": "stderr",
     "output_type": "stream",
     "text": [
      "Training: 100%|█████████████████████████████████| 63/63 [01:01<00:00,  1.03it/s]\n",
      "Validating: 100%|███████████████████████████████| 63/63 [00:58<00:00,  1.08it/s]\n"
     ]
    },
    {
     "name": "stdout",
     "output_type": "stream",
     "text": [
      "Epoch: 38 \tTraining Loss: 2.780978 \tValidation Loss: 2.433295\n",
      "New minimum validation loss: 2.433295. Saving model ...\n"
     ]
    },
    {
     "name": "stderr",
     "output_type": "stream",
     "text": [
      "Training: 100%|█████████████████████████████████| 63/63 [01:01<00:00,  1.03it/s]\n",
      "Validating: 100%|███████████████████████████████| 63/63 [00:58<00:00,  1.09it/s]"
     ]
    },
    {
     "name": "stdout",
     "output_type": "stream",
     "text": [
      "Epoch: 39 \tTraining Loss: 2.686746 \tValidation Loss: 2.417969\n"
     ]
    },
    {
     "name": "stderr",
     "output_type": "stream",
     "text": [
      "\n",
      "Training: 100%|█████████████████████████████████| 63/63 [01:00<00:00,  1.04it/s]\n",
      "Validating: 100%|███████████████████████████████| 63/63 [00:58<00:00,  1.08it/s]\n"
     ]
    },
    {
     "name": "stdout",
     "output_type": "stream",
     "text": [
      "Epoch: 40 \tTraining Loss: 2.698525 \tValidation Loss: 2.395640\n",
      "New minimum validation loss: 2.395640. Saving model ...\n"
     ]
    },
    {
     "name": "stderr",
     "output_type": "stream",
     "text": [
      "Training: 100%|█████████████████████████████████| 63/63 [01:01<00:00,  1.03it/s]\n",
      "Validating: 100%|███████████████████████████████| 63/63 [00:57<00:00,  1.10it/s]"
     ]
    },
    {
     "name": "stdout",
     "output_type": "stream",
     "text": [
      "Epoch: 41 \tTraining Loss: 2.705207 \tValidation Loss: 2.439858\n"
     ]
    },
    {
     "name": "stderr",
     "output_type": "stream",
     "text": [
      "\n",
      "Training: 100%|█████████████████████████████████| 63/63 [01:00<00:00,  1.04it/s]\n",
      "Validating: 100%|███████████████████████████████| 63/63 [00:57<00:00,  1.10it/s]"
     ]
    },
    {
     "name": "stdout",
     "output_type": "stream",
     "text": [
      "Epoch: 42 \tTraining Loss: 2.699806 \tValidation Loss: 2.457782\n"
     ]
    },
    {
     "name": "stderr",
     "output_type": "stream",
     "text": [
      "\n",
      "Training: 100%|█████████████████████████████████| 63/63 [01:00<00:00,  1.04it/s]\n",
      "Validating: 100%|███████████████████████████████| 63/63 [00:57<00:00,  1.09it/s]"
     ]
    },
    {
     "name": "stdout",
     "output_type": "stream",
     "text": [
      "Epoch: 43 \tTraining Loss: 2.685353 \tValidation Loss: 2.402621\n"
     ]
    },
    {
     "name": "stderr",
     "output_type": "stream",
     "text": [
      "\n",
      "Training: 100%|█████████████████████████████████| 63/63 [01:01<00:00,  1.03it/s]\n",
      "Validating: 100%|███████████████████████████████| 63/63 [00:57<00:00,  1.09it/s]\n"
     ]
    },
    {
     "name": "stdout",
     "output_type": "stream",
     "text": [
      "Epoch: 44 \tTraining Loss: 2.603965 \tValidation Loss: 2.358739\n",
      "New minimum validation loss: 2.358739. Saving model ...\n"
     ]
    },
    {
     "name": "stderr",
     "output_type": "stream",
     "text": [
      "Training: 100%|█████████████████████████████████| 63/63 [01:00<00:00,  1.04it/s]\n",
      "Validating: 100%|███████████████████████████████| 63/63 [00:57<00:00,  1.09it/s]"
     ]
    },
    {
     "name": "stdout",
     "output_type": "stream",
     "text": [
      "Epoch: 45 \tTraining Loss: 2.592325 \tValidation Loss: 2.409376\n"
     ]
    },
    {
     "name": "stderr",
     "output_type": "stream",
     "text": [
      "\n",
      "Training: 100%|█████████████████████████████████| 63/63 [01:00<00:00,  1.04it/s]\n",
      "Validating: 100%|███████████████████████████████| 63/63 [00:57<00:00,  1.09it/s]\n"
     ]
    },
    {
     "name": "stdout",
     "output_type": "stream",
     "text": [
      "Epoch: 46 \tTraining Loss: 2.591519 \tValidation Loss: 2.259563\n",
      "New minimum validation loss: 2.259563. Saving model ...\n"
     ]
    },
    {
     "name": "stderr",
     "output_type": "stream",
     "text": [
      "Training: 100%|█████████████████████████████████| 63/63 [01:01<00:00,  1.03it/s]\n",
      "Validating: 100%|███████████████████████████████| 63/63 [00:57<00:00,  1.10it/s]"
     ]
    },
    {
     "name": "stdout",
     "output_type": "stream",
     "text": [
      "Epoch: 47 \tTraining Loss: 2.550165 \tValidation Loss: 2.311748\n"
     ]
    },
    {
     "name": "stderr",
     "output_type": "stream",
     "text": [
      "\n",
      "Training: 100%|█████████████████████████████████| 63/63 [01:00<00:00,  1.04it/s]\n",
      "Validating: 100%|███████████████████████████████| 63/63 [01:01<00:00,  1.02it/s]"
     ]
    },
    {
     "name": "stdout",
     "output_type": "stream",
     "text": [
      "Epoch: 48 \tTraining Loss: 2.522953 \tValidation Loss: 2.271264\n"
     ]
    },
    {
     "name": "stderr",
     "output_type": "stream",
     "text": [
      "\n",
      "Training: 100%|█████████████████████████████████| 63/63 [01:00<00:00,  1.04it/s]\n",
      "Validating: 100%|███████████████████████████████| 63/63 [00:57<00:00,  1.10it/s]\n"
     ]
    },
    {
     "name": "stdout",
     "output_type": "stream",
     "text": [
      "Epoch: 49 \tTraining Loss: 2.511417 \tValidation Loss: 2.223162\n",
      "New minimum validation loss: 2.223162. Saving model ...\n"
     ]
    },
    {
     "name": "stderr",
     "output_type": "stream",
     "text": [
      "Training: 100%|█████████████████████████████████| 63/63 [01:00<00:00,  1.04it/s]\n",
      "Validating: 100%|███████████████████████████████| 63/63 [00:57<00:00,  1.09it/s]"
     ]
    },
    {
     "name": "stdout",
     "output_type": "stream",
     "text": [
      "Epoch: 50 \tTraining Loss: 2.540485 \tValidation Loss: 2.276532\n"
     ]
    },
    {
     "name": "stderr",
     "output_type": "stream",
     "text": [
      "\n",
      "Training: 100%|█████████████████████████████████| 63/63 [01:01<00:00,  1.03it/s]\n",
      "Validating: 100%|███████████████████████████████| 63/63 [00:58<00:00,  1.08it/s]\n"
     ]
    },
    {
     "name": "stdout",
     "output_type": "stream",
     "text": [
      "Epoch: 51 \tTraining Loss: 2.517429 \tValidation Loss: 2.193864\n",
      "New minimum validation loss: 2.193864. Saving model ...\n"
     ]
    },
    {
     "name": "stderr",
     "output_type": "stream",
     "text": [
      "Training: 100%|█████████████████████████████████| 63/63 [01:02<00:00,  1.01it/s]\n",
      "Validating: 100%|███████████████████████████████| 63/63 [00:57<00:00,  1.09it/s]"
     ]
    },
    {
     "name": "stdout",
     "output_type": "stream",
     "text": [
      "Epoch: 52 \tTraining Loss: 2.472031 \tValidation Loss: 2.225352\n"
     ]
    },
    {
     "name": "stderr",
     "output_type": "stream",
     "text": [
      "\n",
      "Training: 100%|█████████████████████████████████| 63/63 [01:00<00:00,  1.03it/s]\n",
      "Validating: 100%|███████████████████████████████| 63/63 [00:57<00:00,  1.09it/s]\n"
     ]
    },
    {
     "name": "stdout",
     "output_type": "stream",
     "text": [
      "Epoch: 53 \tTraining Loss: 2.460255 \tValidation Loss: 2.138592\n",
      "New minimum validation loss: 2.138592. Saving model ...\n"
     ]
    },
    {
     "name": "stderr",
     "output_type": "stream",
     "text": [
      "Training: 100%|█████████████████████████████████| 63/63 [01:00<00:00,  1.04it/s]\n",
      "Validating: 100%|███████████████████████████████| 63/63 [00:58<00:00,  1.09it/s]"
     ]
    },
    {
     "name": "stdout",
     "output_type": "stream",
     "text": [
      "Epoch: 54 \tTraining Loss: 2.465549 \tValidation Loss: 2.138871\n"
     ]
    },
    {
     "name": "stderr",
     "output_type": "stream",
     "text": [
      "\n",
      "Training: 100%|█████████████████████████████████| 63/63 [01:00<00:00,  1.04it/s]\n",
      "Validating: 100%|███████████████████████████████| 63/63 [00:57<00:00,  1.09it/s]"
     ]
    },
    {
     "name": "stdout",
     "output_type": "stream",
     "text": [
      "Epoch: 55 \tTraining Loss: 2.455573 \tValidation Loss: 2.174106\n"
     ]
    },
    {
     "name": "stderr",
     "output_type": "stream",
     "text": [
      "\n",
      "Training: 100%|█████████████████████████████████| 63/63 [01:00<00:00,  1.03it/s]\n",
      "Validating: 100%|███████████████████████████████| 63/63 [00:57<00:00,  1.10it/s]"
     ]
    },
    {
     "name": "stdout",
     "output_type": "stream",
     "text": [
      "Epoch: 56 \tTraining Loss: 2.411569 \tValidation Loss: 2.156818\n"
     ]
    },
    {
     "name": "stderr",
     "output_type": "stream",
     "text": [
      "\n",
      "Training: 100%|█████████████████████████████████| 63/63 [01:00<00:00,  1.03it/s]\n",
      "Validating: 100%|███████████████████████████████| 63/63 [00:57<00:00,  1.09it/s]\n"
     ]
    },
    {
     "name": "stdout",
     "output_type": "stream",
     "text": [
      "Epoch: 57 \tTraining Loss: 2.424079 \tValidation Loss: 2.107116\n",
      "New minimum validation loss: 2.107116. Saving model ...\n"
     ]
    },
    {
     "name": "stderr",
     "output_type": "stream",
     "text": [
      "Training: 100%|█████████████████████████████████| 63/63 [01:01<00:00,  1.02it/s]\n",
      "Validating: 100%|███████████████████████████████| 63/63 [00:58<00:00,  1.08it/s]"
     ]
    },
    {
     "name": "stdout",
     "output_type": "stream",
     "text": [
      "Epoch: 58 \tTraining Loss: 2.401386 \tValidation Loss: 2.123430\n"
     ]
    },
    {
     "name": "stderr",
     "output_type": "stream",
     "text": [
      "\n",
      "Training: 100%|█████████████████████████████████| 63/63 [01:00<00:00,  1.03it/s]\n",
      "Validating: 100%|███████████████████████████████| 63/63 [00:57<00:00,  1.10it/s]\n"
     ]
    },
    {
     "name": "stdout",
     "output_type": "stream",
     "text": [
      "Epoch: 59 \tTraining Loss: 2.363457 \tValidation Loss: 2.039261\n",
      "New minimum validation loss: 2.039261. Saving model ...\n"
     ]
    },
    {
     "name": "stderr",
     "output_type": "stream",
     "text": [
      "Training: 100%|█████████████████████████████████| 63/63 [01:00<00:00,  1.03it/s]\n",
      "Validating: 100%|███████████████████████████████| 63/63 [00:57<00:00,  1.09it/s]"
     ]
    },
    {
     "name": "stdout",
     "output_type": "stream",
     "text": [
      "Epoch: 60 \tTraining Loss: 2.323907 \tValidation Loss: 2.032858\n"
     ]
    },
    {
     "name": "stderr",
     "output_type": "stream",
     "text": [
      "\n",
      "Training: 100%|█████████████████████████████████| 63/63 [01:00<00:00,  1.04it/s]\n",
      "Validating: 100%|███████████████████████████████| 63/63 [00:57<00:00,  1.09it/s]\n"
     ]
    },
    {
     "name": "stdout",
     "output_type": "stream",
     "text": [
      "Epoch: 61 \tTraining Loss: 2.329323 \tValidation Loss: 1.979310\n",
      "New minimum validation loss: 1.979310. Saving model ...\n"
     ]
    },
    {
     "name": "stderr",
     "output_type": "stream",
     "text": [
      "Training: 100%|█████████████████████████████████| 63/63 [01:00<00:00,  1.04it/s]\n",
      "Validating: 100%|███████████████████████████████| 63/63 [00:57<00:00,  1.09it/s]"
     ]
    },
    {
     "name": "stdout",
     "output_type": "stream",
     "text": [
      "Epoch: 62 \tTraining Loss: 2.326547 \tValidation Loss: 1.998116\n"
     ]
    },
    {
     "name": "stderr",
     "output_type": "stream",
     "text": [
      "\n",
      "Training: 100%|█████████████████████████████████| 63/63 [01:00<00:00,  1.04it/s]\n",
      "Validating: 100%|███████████████████████████████| 63/63 [00:57<00:00,  1.10it/s]"
     ]
    },
    {
     "name": "stdout",
     "output_type": "stream",
     "text": [
      "Epoch: 63 \tTraining Loss: 2.324313 \tValidation Loss: 1.981320\n"
     ]
    },
    {
     "name": "stderr",
     "output_type": "stream",
     "text": [
      "\n",
      "Training: 100%|█████████████████████████████████| 63/63 [01:00<00:00,  1.04it/s]\n",
      "Validating: 100%|███████████████████████████████| 63/63 [00:57<00:00,  1.09it/s]"
     ]
    },
    {
     "name": "stdout",
     "output_type": "stream",
     "text": [
      "Epoch: 64 \tTraining Loss: 2.290649 \tValidation Loss: 1.986864\n"
     ]
    },
    {
     "name": "stderr",
     "output_type": "stream",
     "text": [
      "\n",
      "Training: 100%|█████████████████████████████████| 63/63 [01:00<00:00,  1.04it/s]\n",
      "Validating: 100%|███████████████████████████████| 63/63 [00:57<00:00,  1.09it/s]"
     ]
    },
    {
     "name": "stdout",
     "output_type": "stream",
     "text": [
      "Epoch: 65 \tTraining Loss: 2.307286 \tValidation Loss: 1.969696\n"
     ]
    },
    {
     "name": "stderr",
     "output_type": "stream",
     "text": [
      "\n",
      "Training: 100%|█████████████████████████████████| 63/63 [01:00<00:00,  1.04it/s]\n",
      "Validating: 100%|███████████████████████████████| 63/63 [00:57<00:00,  1.09it/s]\n"
     ]
    },
    {
     "name": "stdout",
     "output_type": "stream",
     "text": [
      "Epoch: 66 \tTraining Loss: 2.279205 \tValidation Loss: 1.928927\n",
      "New minimum validation loss: 1.928927. Saving model ...\n"
     ]
    },
    {
     "name": "stderr",
     "output_type": "stream",
     "text": [
      "Training: 100%|█████████████████████████████████| 63/63 [01:00<00:00,  1.04it/s]\n",
      "Validating: 100%|███████████████████████████████| 63/63 [00:57<00:00,  1.09it/s]"
     ]
    },
    {
     "name": "stdout",
     "output_type": "stream",
     "text": [
      "Epoch: 67 \tTraining Loss: 2.248359 \tValidation Loss: 2.045603\n"
     ]
    },
    {
     "name": "stderr",
     "output_type": "stream",
     "text": [
      "\n",
      "Training: 100%|█████████████████████████████████| 63/63 [01:02<00:00,  1.01it/s]\n",
      "Validating: 100%|███████████████████████████████| 63/63 [00:57<00:00,  1.09it/s]\n"
     ]
    },
    {
     "name": "stdout",
     "output_type": "stream",
     "text": [
      "Epoch: 68 \tTraining Loss: 2.250178 \tValidation Loss: 1.878619\n",
      "New minimum validation loss: 1.878619. Saving model ...\n"
     ]
    },
    {
     "name": "stderr",
     "output_type": "stream",
     "text": [
      "Training: 100%|█████████████████████████████████| 63/63 [01:01<00:00,  1.03it/s]\n",
      "Validating: 100%|███████████████████████████████| 63/63 [00:57<00:00,  1.09it/s]"
     ]
    },
    {
     "name": "stdout",
     "output_type": "stream",
     "text": [
      "Epoch: 69 \tTraining Loss: 2.247135 \tValidation Loss: 1.919067\n"
     ]
    },
    {
     "name": "stderr",
     "output_type": "stream",
     "text": [
      "\n",
      "Training: 100%|█████████████████████████████████| 63/63 [01:00<00:00,  1.04it/s]\n",
      "Validating: 100%|███████████████████████████████| 63/63 [00:57<00:00,  1.09it/s]\n"
     ]
    },
    {
     "name": "stdout",
     "output_type": "stream",
     "text": [
      "Epoch: 70 \tTraining Loss: 2.206302 \tValidation Loss: 1.849541\n",
      "New minimum validation loss: 1.849541. Saving model ...\n"
     ]
    }
   ],
   "source": [
    "from src.data import get_data_loaders\n",
    "from src.train import optimize\n",
    "from src.optimization import get_optimizer, get_loss\n",
    "from src.model import MyModel\n",
    "\n",
    "# get the data loaders using batch_size and valid_size defined in the previous\n",
    "# cell\n",
    "# HINT: do NOT copy/paste the values. Use the variables instead\n",
    "data_loaders = get_data_loaders(batch_size=batch_size, valid_size=valid_size)\n",
    "\n",
    "# instance model MyModel with num_classes and drouput defined in the previous\n",
    "# cell\n",
    "model = MyModel(num_classes=num_classes, dropout=dropout)\n",
    "\n",
    "# Get the optimizer using get_optimizer and the model you just created, the learning rate,\n",
    "# the optimizer and the weight decay specified in the previous cell\n",
    "optimizer = get_optimizer(model, learning_rate=learning_rate, optimizer=opt, weight_decay=weight_decay)\n",
    "\n",
    "# Get the loss using get_loss\n",
    "loss = get_loss()\n",
    "\n",
    "optimize(\n",
    "    data_loaders,\n",
    "    model,\n",
    "    optimizer,\n",
    "    loss,\n",
    "    n_epochs=num_epochs,\n",
    "    save_path=\"checkpoints/best_val_loss.pt\",\n",
    "    interactive_tracking=False\n",
    ")"
   ]
  },
  {
   "cell_type": "markdown",
   "metadata": {},
   "source": [
    "---\n",
    "## <img src=\"static_images/icons/noun-advance-2109145.png\" alt=\">\" style=\"width:50px\"/> Step 6: testing against the Test Set\n",
    "\n",
    "> <img src=\"static_images/icons/noun-info-2558213.png\" alt=\"?\" style=\"width:25px\"/> only run this *after* you have completed hyperpameter optimization. Do not optimize hyperparameters by looking at the results on the test set, or you might overfit on the test set (bad, bad, bad)\n",
    "\n",
    "Run the code cell below to try out your model on the test dataset of landmark images. Ensure that your test accuracy is greater than 50%."
   ]
  },
  {
   "cell_type": "code",
   "execution_count": 11,
   "metadata": {},
   "outputs": [
    {
     "name": "stderr",
     "output_type": "stream",
     "text": [
      "Testing: 100%|██████████████████████████████████| 63/63 [00:57<00:00,  1.09it/s]"
     ]
    },
    {
     "name": "stdout",
     "output_type": "stream",
     "text": [
      "Test Loss: 1.850031\n",
      "\n",
      "\n",
      "Test Accuracy: 50% (2004/3996)\n"
     ]
    },
    {
     "name": "stderr",
     "output_type": "stream",
     "text": [
      "\n"
     ]
    },
    {
     "data": {
      "text/plain": [
       "1.8500307022579134"
      ]
     },
     "execution_count": 11,
     "metadata": {},
     "output_type": "execute_result"
    }
   ],
   "source": [
    "# load the model that got the best validation accuracy\n",
    "from src.train import one_epoch_test\n",
    "from src.model import MyModel\n",
    "import torch\n",
    "\n",
    "model = MyModel(num_classes=num_classes, dropout=dropout)\n",
    "\n",
    "# YOUR CODE HERE: load the weights in 'checkpoints/best_val_loss.pt'\n",
    "model.load_state_dict(torch.load('checkpoints/best_val_loss.pt'))\n",
    "# Run test\n",
    "one_epoch_test(data_loaders['test'], model, loss)"
   ]
  },
  {
   "cell_type": "markdown",
   "metadata": {},
   "source": [
    "---\n",
    "## <img src=\"static_images/icons/noun-advance-2109145.png\" alt=\">\" style=\"width:50px\"/> Step 7: Export using torchscript\n",
    "\n",
    "Great job creating your CNN models! Now that you have put in all the hard work of creating accurate classifiers, let's export it so we can use it in our app.\n",
    "\n",
    "But first, as usual, we need to complete some code!\n",
    "\n",
    "Open `src/predictor.py` and fill up the missing code, then run the tests:"
   ]
  },
  {
   "cell_type": "code",
   "execution_count": 16,
   "metadata": {},
   "outputs": [
    {
     "name": "stdout",
     "output_type": "stream",
     "text": [
      "\u001b[1m============================= test session starts ==============================\u001b[0m\n",
      "platform linux -- Python 3.7.6, pytest-7.1.1, pluggy-1.2.0 -- /opt/conda/bin/python3.7\n",
      "cachedir: .pytest_cache\n",
      "rootdir: /workspace/home\n",
      "collected 1 item                                                               \u001b[0m\u001b[1m\n",
      "\n",
      "src/predictor.py::test_model_construction \u001b[32mPASSED\u001b[0m\u001b[32m                         [100%]\u001b[0m\n",
      "\n",
      "\u001b[32m============================== \u001b[32m\u001b[1m1 passed\u001b[0m\u001b[32m in 9.75s\u001b[0m\u001b[32m ===============================\u001b[0m\n"
     ]
    }
   ],
   "source": [
    "!pytest -vv src/predictor.py"
   ]
  },
  {
   "cell_type": "markdown",
   "metadata": {},
   "source": [
    "Allright, now we are ready to export our model using our Predictor class:"
   ]
  },
  {
   "cell_type": "code",
   "execution_count": 12,
   "metadata": {},
   "outputs": [
    {
     "name": "stdout",
     "output_type": "stream",
     "text": [
      "Reusing cached mean and std\n",
      "Dataset mean: tensor([0.4638, 0.4725, 0.4687]), std: tensor([0.2699, 0.2706, 0.3018])\n",
      "Reusing cached mean and std\n"
     ]
    }
   ],
   "source": [
    "# NOTE: you might need to restart the notebook before running this step\n",
    "# If you get an error about RuntimeError: Can't redefine method: forward on class\n",
    "# restart your notebook then execute only this cell\n",
    "from src.predictor import Predictor\n",
    "from src.helpers import compute_mean_and_std\n",
    "from src.model import MyModel\n",
    "from src.data import get_data_loaders\n",
    "import torch\n",
    "\n",
    "data_loaders = get_data_loaders(batch_size=1)\n",
    "\n",
    "# First let's get the class names from our data loaders\n",
    "class_names = data_loaders[\"train\"].dataset.classes\n",
    "\n",
    "# Then let's move the model_transfer to the CPU\n",
    "# (we don't need GPU for inference)\n",
    "model = MyModel(num_classes=50, dropout=0.5).cpu()\n",
    "\n",
    "# Let's make sure we use the right weights by loading the\n",
    "# best weights we have found during training\n",
    "# NOTE: remember to use map_location='cpu' so the weights\n",
    "# are loaded on the CPU (and not the GPU)\n",
    "\n",
    "# YOUR CODE HERE\n",
    "model.load_state_dict(\n",
    "    torch.load(\"checkpoints/best_val_loss.pt\", map_location=\"cpu\")\n",
    ")\n",
    "\n",
    "\n",
    "# Let's wrap our model using the predictor class\n",
    "mean, std = compute_mean_and_std()\n",
    "predictor = Predictor(model, class_names, mean, std).cpu()\n",
    "\n",
    "# Export using torch.jit.script\n",
    "scripted_predictor = torch.jit.script(predictor)\n",
    "\n",
    "scripted_predictor.save(\"checkpoints/original_exported.pt\")"
   ]
  },
  {
   "cell_type": "markdown",
   "metadata": {},
   "source": [
    "Now let's make sure the exported model has the same performance as the original one, by reloading it and testing it. The Predictor class takes different inputs than the non-wrapped model, so we have to use a specific test loop:"
   ]
  },
  {
   "cell_type": "code",
   "execution_count": 13,
   "metadata": {},
   "outputs": [],
   "source": [
    "import torch\n",
    "\n",
    "# Load using torch.jit.load\n",
    "model_reloaded =  torch.jit.load(\"checkpoints/original_exported.pt\")"
   ]
  },
  {
   "cell_type": "code",
   "execution_count": 14,
   "metadata": {},
   "outputs": [
    {
     "name": "stderr",
     "output_type": "stream",
     "text": [
      " 25%|█████████▊                             | 1250/4996 [12:31<37:31,  1.66it/s]"
     ]
    },
    {
     "name": "stdout",
     "output_type": "stream",
     "text": [
      "Accuracy: 0.1944\n"
     ]
    },
    {
     "name": "stderr",
     "output_type": "stream",
     "text": [
      "\n"
     ]
    }
   ],
   "source": [
    "from src.predictor import predictor_test\n",
    "\n",
    "pred, truth = predictor_test(data_loaders['test'], model_reloaded)"
   ]
  },
  {
   "cell_type": "markdown",
   "metadata": {},
   "source": [
    "Finally, let's have a look at the confusion matrix of the model we are going to use in production:"
   ]
  },
  {
   "cell_type": "code",
   "execution_count": 15,
   "metadata": {},
   "outputs": [
    {
     "data": {
      "image/png": "[encoded data removed]",
      "text/plain": [
       "<Figure size 1008x864 with 1 Axes>"
      ]
     },
     "metadata": {
      "needs_background": "light"
     },
     "output_type": "display_data"
    }
   ],
   "source": [
    "from src.helpers import plot_confusion_matrix\n",
    "\n",
    "plot_confusion_matrix(pred, truth)"
   ]
  },
  {
   "cell_type": "code",
   "execution_count": null,
   "metadata": {},
   "outputs": [],
   "source": []
  }
 ],
 "metadata": {
  "kernelspec": {
   "display_name": "Python 3 (ipykernel)",
   "language": "python",
   "name": "python3"
  },
  "language_info": {
   "codemirror_mode": {
    "name": "ipython",
    "version": 3
   },
   "file_extension": ".py",
   "mimetype": "text/x-python",
   "name": "python",
   "nbconvert_exporter": "python",
   "pygments_lexer": "ipython3",
   "version": "3.7.12"
  },
  "widgets": {
   "application/vnd.jupyter.widget-state+json": {
    "state": {},
    "version_major": 2,
    "version_minor": 0
   }
  }
 },
 "nbformat": 4,
 "nbformat_minor": 4
}
